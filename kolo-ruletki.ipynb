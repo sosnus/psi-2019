{
 "cells": [
  {
   "cell_type": "code",
   "execution_count": 1,
   "metadata": {},
   "outputs": [
    {
     "name": "stdout",
     "output_type": "stream",
     "text": [
      "[[0, 0, 0, 0], [0, 0, 0, 0], [0, 0, 0, 0], [0, 0, 0, 0], [0, 0, 0, 0], [0, 0, 0, 0], [0, 0, 0, 0], [0, 0, 0, 0]]\n"
     ]
    }
   ],
   "source": [
    "# Creates a list containing 5 lists, each of 8 items, all set to 0\n",
    "w, h = 4, 8;\n",
    "Matrix = [[0 for x in range(w)] for y in range(h)] \n",
    "print(Matrix)"
   ]
  },
  {
   "cell_type": "code",
   "execution_count": null,
   "metadata": {},
   "outputs": [],
   "source": [
    "Matrix[0][0] = 1111110\n",
    "Matrix[1][0] = 1110100\n",
    "Matrix[1][0] = 1001110\n",
    "Matrix[1][0] = 1\n",
    "Matrix[1][0] = \n",
    "Matrix[1][0] = \n",
    "Matrix[1][0] = \n",
    "Matrix[1][0] = 1110100\n",
    "Matrix[1][0] = 1110100\n",
    "Matrix[1][0] = 1110100"
   ]
  },
  {
   "cell_type": "code",
   "execution_count": null,
   "metadata": {},
   "outputs": [],
   "source": [
    "Matrix[1][0] = 127\n",
    "Matrix[1][1] = 116\n",
    "Matrix[1][2] = 78\n",
    "Matrix[1][3] = 79\n",
    "Matrix[1][4] = 104\n",
    "Matrix[1][5] = 91\n",
    "Matrix[1][6] = 33\n",
    "Matrix[1][7] = 12\n"
   ]
  },
  {
   "cell_type": "code",
   "execution_count": 2,
   "metadata": {},
   "outputs": [
    {
     "name": "stdout",
     "output_type": "stream",
     "text": [
      "[[0. 0. 0. 0.]\n",
      " [0. 0. 0. 0.]\n",
      " [0. 0. 0. 0.]\n",
      " [0. 0. 0. 0.]\n",
      " [0. 0. 0. 0.]\n",
      " [0. 0. 0. 0.]\n",
      " [0. 0. 0. 0.]\n",
      " [0. 0. 0. 0.]]\n"
     ]
    }
   ],
   "source": [
    "    import numpy\n",
    "    M = numpy.zeros((8, 4))\n",
    "print(M)\n"
   ]
  },
  {
   "cell_type": "code",
   "execution_count": 3,
   "metadata": {},
   "outputs": [
    {
     "name": "stdout",
     "output_type": "stream",
     "text": [
      "126\n",
      "0b1111110\n"
     ]
    }
   ],
   "source": [
    "print(126)\n",
    "print(bin(126))"
   ]
  },
  {
   "cell_type": "code",
   "execution_count": 4,
   "metadata": {},
   "outputs": [
    {
     "name": "stdout",
     "output_type": "stream",
     "text": [
      "0b1111110\n",
      "0b1110100\n",
      "0b1001110\n",
      "0b1001111\n",
      "0b1101000\n",
      "0b1011011\n",
      "0b100001\n",
      "[126, 116, 78, 79, 104, 91, 33, 12]\n",
      "[41111110. 41110100. 41001110. 41001111. 41101000. 41011011.  4100001.\n",
      "        0.]\n"
     ]
    }
   ],
   "source": [
    "A = [126,116,78,79,104,91,33,12]\n",
    "B = [31754,26914,12170,12484,21634,16564,2180,290]\n",
    "#C = bin(A)\n",
    "C = numpy.zeros(8)\n",
    "# Matrix = [[0 for x in range(w)] for y in range(h)] \n",
    "for x in range(7):\n",
    "    tmp = bin(A[x])\n",
    "    print(tmp)\n",
    "    tmp = tmp.replace(\"0b\",\"4\")\n",
    "    C[x]=tmp\n",
    "print(A)\n",
    "print(C)"
   ]
  },
  {
   "cell_type": "code",
   "execution_count": null,
   "metadata": {},
   "outputs": [],
   "source": [
    "miscChromosome = 8\n",
    "tabMiscChromosome = numpy.zeros(miscChromosome)\n",
    "populationCnt = 10000\n",
    "tabPopulation = numpy.zeros(populationCnt)\n",
    "from random import randint\n",
    "for x in range(populationCnt):\n",
    "    tabPopulation[x] = randint(0, 127)\n",
    "tabBin = numpy.zeros(8)\n",
    "tabDec = numpy.zeros(8)\n",
    "tabProc = numpy.zeros(8)\n"
   ]
  },
  {
   "cell_type": "code",
   "execution_count": null,
   "metadata": {},
   "outputs": [],
   "source": [
    "print(\"TEST\")\n",
    "import numpy as np\n",
    "D = np.random.choice(127, 8)\n",
    "\n",
    "print(D)"
   ]
  },
  {
   "cell_type": "code",
   "execution_count": null,
   "metadata": {},
   "outputs": [],
   "source": [
    "print(\"Populacja składa się z n punktów przestrzeni poszukiwań X (funkcja rand)\")\n",
    "print(\"Punkty są zakodowane w postaci ciągów binarnych (funkcja dec2bin)\")\n",
    "print(\"Macierz chromosomów oznaczamy przez: ch1…..chn\")\n",
    "print(\"Populację początkową oznaczamy P(0) = {ch(0)1…ch(0)n} \")"
   ]
  },
  {
   "cell_type": "code",
   "execution_count": 12,
   "metadata": {},
   "outputs": [
    {
     "data": {
      "application/vnd.jupyter.widget-view+json": {
       "model_id": "23c1da3e9de44f8b857483b227229e6b",
       "version_major": 2,
       "version_minor": 0
      },
      "text/plain": [
       "Text(value='1000', description='populationCnt=')"
      ]
     },
     "metadata": {},
     "output_type": "display_data"
    },
    {
     "data": {
      "application/vnd.jupyter.widget-view+json": {
       "model_id": "8770bfd5a1c34de982bea136b39b2c07",
       "version_major": 2,
       "version_minor": 0
      },
      "text/plain": [
       "Text(value='127', description='maxVariousGenothype=')"
      ]
     },
     "metadata": {},
     "output_type": "display_data"
    },
    {
     "data": {
      "application/vnd.jupyter.widget-view+json": {
       "model_id": "7170dddc113c4858927c51bfc09c53f1",
       "version_major": 2,
       "version_minor": 0
      },
      "text/plain": [
       "Text(value='8', description='selectedGenotypeCnt=')"
      ]
     },
     "metadata": {},
     "output_type": "display_data"
    }
   ],
   "source": [
    "import ipywidgets as widgets\n",
    "tbPopulationCnt = widgets.Text(value='1000', description='populationCnt=' )\n",
    "tbMaxVariousGenothype = widgets.Text(value='127', description='maxVariousGenothype=' )\n",
    "tbSelectedGenotypeCnt = widgets.Text(value='8', description='selectedGenotypeCnt=' )\n",
    "display(tbPopulationCnt)\n",
    "display(tbMaxVariousGenothype)\n",
    "display(tbSelectedGenotypeCnt)"
   ]
  },
  {
   "cell_type": "code",
   "execution_count": 30,
   "metadata": {},
   "outputs": [
    {
     "name": "stdout",
     "output_type": "stream",
     "text": [
      "Populacja składa się z n punktów przestrzeni poszukiwań X (funkcja rand)\n",
      "[76 77 84 96 64 34 37 19]\n",
      "Punkty są zakodowane w postaci ciągów binarnych (funkcja dec2bin)\n",
      "[1001100. 1001101. 1010100. 1100000. 1000000.  100010.  100101.   10011.]\n",
      "Macierz chromosomów oznaczamy przez: ch1…..chn\n",
      "Populację początkową oznaczamy P(0) = {ch(0)1…ch(0)n} \n"
     ]
    }
   ],
   "source": [
    "import numpy as np\n",
    "print(\"Populacja składa się z n punktów przestrzeni poszukiwań X (funkcja rand)\")\n",
    "tabDifferentGenotype = np.random.choice(int(tbMaxVariousGenothype.value), int(tbSelectedGenotypeCnt.value))\n",
    "print(tabDifferentGenotype)\n",
    "print(\"Punkty są zakodowane w postaci ciągów binarnych (funkcja dec2bin)\")\n",
    "E = tabToBin(tabDifferentGenotype,8).copy()\n",
    "print(E)\n",
    "print(\"Macierz chromosomów oznaczamy przez: ch1…..chn\")\n",
    "print(\"Populację początkową oznaczamy P(0) = {ch(0)1…ch(0)n} \")"
   ]
  },
  {
   "cell_type": "code",
   "execution_count": 22,
   "metadata": {},
   "outputs": [],
   "source": [
    "def tabToBin(tab,cnt):\n",
    "    tab2 = np.zeros(cnt)\n",
    "    for x in range(cnt):\n",
    "        tab2[x] = bin(tab[x]).replace(\"0b\",\"\")\n",
    "#     print(tab)\n",
    "#     print(tab2)\n",
    "    return tab2\n",
    "        "
   ]
  },
  {
   "cell_type": "code",
   "execution_count": 23,
   "metadata": {},
   "outputs": [
    {
     "data": {
      "text/plain": [
       "array([  11111.,   10110.,  101100.,   11000.,  101111.,       0.,\n",
       "       1100011.,  100000.])"
      ]
     },
     "execution_count": 23,
     "metadata": {},
     "output_type": "execute_result"
    }
   ],
   "source": [
    "\n",
    "tabToBin(D,8)"
   ]
  },
  {
   "cell_type": "code",
   "execution_count": 32,
   "metadata": {},
   "outputs": [
    {
     "name": "stdout",
     "output_type": "stream",
     "text": [
      "d\n",
      "[76 77 84 96 64 34 37 19]\n",
      "[34. 37. 96. ... 34. 77. 84.]\n"
     ]
    }
   ],
   "source": [
    "import random\n",
    "populationCnt = 10000\n",
    "tabPopulation = np.zeros(populationCnt)\n",
    "from random import randint\n",
    "for x in range(populationCnt):\n",
    "    tabPopulation[x] = random.choice(tabDifferentGenotype) #randint(0, 127)\n",
    "    \n",
    "print(tabDifferentGenotype)    \n",
    "print(tabPopulation)"
   ]
  },
  {
   "cell_type": "code",
   "execution_count": null,
   "metadata": {},
   "outputs": [],
   "source": []
  }
 ],
 "metadata": {
  "kernelspec": {
   "display_name": "Python 3",
   "language": "python",
   "name": "python3"
  },
  "language_info": {
   "codemirror_mode": {
    "name": "ipython",
    "version": 3
   },
   "file_extension": ".py",
   "mimetype": "text/x-python",
   "name": "python",
   "nbconvert_exporter": "python",
   "pygments_lexer": "ipython3",
   "version": "3.6.7"
  }
 },
 "nbformat": 4,
 "nbformat_minor": 2
}
