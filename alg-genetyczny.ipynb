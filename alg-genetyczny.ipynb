{
 "cells": [
  {
   "cell_type": "code",
   "execution_count": null,
   "metadata": {},
   "outputs": [],
   "source": [
    "# IMPORTS\n",
    "from IPython.display import Image\n",
    "import numpy as np\n",
    "from random import randint\n"
   ]
  },
  {
   "cell_type": "code",
   "execution_count": null,
   "metadata": {},
   "outputs": [],
   "source": [
    "#Image(\"img/PAG-schemat.PNG\")"
   ]
  },
  {
   "cell_type": "code",
   "execution_count": null,
   "metadata": {},
   "outputs": [],
   "source": [
    "print(\"1. WYBÓR POPULACJI POCZĄTKOWEJ\")\n",
    "print(\"-Populacja składa się z n punktów przestrzeni poszukiwań X (funkcja rand) \")\n",
    "print(\"f(x) = 2(x^2+1), gdzie x E <1...127>\")\n",
    "n = 100 #rozmiar populacji\n",
    "M = numpy.zeros(n).astype(int)\n",
    "xMin = 1\n",
    "xMax = 127\n",
    "for x in range(n):\n",
    "    M[x] = 2*(randint(xMin,xMax)+1)\n",
    "print(M)\n"
   ]
  },
  {
   "cell_type": "code",
   "execution_count": null,
   "metadata": {},
   "outputs": [],
   "source": [
    "# Python program for counting sort \n",
    "  \n",
    "# The main function that sort the given string arr[] in  \n",
    "# alphabetical order \n",
    "def countSort(arr): \n",
    "  \n",
    "    # The output character array that will have sorted arr \n",
    "    output = [0 for i in range(256)] \n",
    "  \n",
    "    # Create a count array to store count of inidividul \n",
    "    # characters and initialize count array as 0 \n",
    "    count = [0 for i in range(256)] \n",
    "  \n",
    "    # For storing the resulting answer since the  \n",
    "    # string is immutable \n",
    "    ans = [\"\" for _ in arr] \n",
    "  \n",
    "    # Store count of each character \n",
    "    for i in arr: \n",
    "        count[ord(i)] += 1\n",
    "  \n",
    "    # Change count[i] so that count[i] now contains actual \n",
    "    # position of this character in output array \n",
    "    for i in range(256): \n",
    "        count[i] += count[i-1] \n",
    "  \n",
    "    # Build the output character array \n",
    "    for i in range(len(arr)): \n",
    "        output[count[ord(arr[i])]-1] = arr[i] \n",
    "        count[ord(arr[i])] -= 1\n",
    "  \n",
    "    # Copy the output array to arr, so that arr now \n",
    "    # contains sorted characters \n",
    "    for i in range(len(arr)): \n",
    "        ans[i] = output[i] \n",
    "    return ans  \n",
    "  \n",
    "# Driver program to test above function \n",
    "arr = \"geeksforgeeks\"\n",
    "ans = countSort(arr) \n",
    "print (\"Sorted character array is %s\"  %(\"\".join(ans))) \n",
    "  \n",
    "# This code is contributed by Nikhil Kumar Singh "
   ]
  },
  {
   "cell_type": "code",
   "execution_count": 36,
   "metadata": {},
   "outputs": [],
   "source": [
    "class Gen:\n",
    "    def __init__(self,val):\n",
    "        self.value = val\n",
    "        self.cnt = 1\n",
    "        print(\"obj init:\", val)\n",
    "    def printBin(self):\n",
    "        return bin(self.value)[2:].zfill(8) \n",
    "    def printAllInfo(self):\n",
    "        return str(\"0b\"+self.printBin()+\" (\"+str(self.value)+\") cnt=\"+ str(self.cnt))\n",
    "       # bin(self.value)[2:].zfill(8) \n",
    "    \n",
    "# obj = Gen(5)\n",
    "# print(obj.printBin())\n",
    "    "
   ]
  },
  {
   "cell_type": "code",
   "execution_count": 37,
   "metadata": {},
   "outputs": [
    {
     "name": "stdout",
     "output_type": "stream",
     "text": [
      "[  4   6   8  12  14  16  16  20  22  24  24  32  34  34  36  44  46  46\n",
      "  48  50  52  52  58  58  70  74  78  78  80  82  84  88  88  90  94  96\n",
      "  98  98 100 112 116 116 118 122 124 128 128 130 130 138 138 142 142 148\n",
      " 148 150 156 164 170 176 178 180 180 182 188 188 194 194 196 198 200 200\n",
      " 208 210 212 214 216 218 218 224 224 228 228 228 228 232 234 240 244 244\n",
      " 246 246 246 246 248 250 254 254 254 256]\n",
      "obj init: 4\n",
      "obj init: 8\n",
      "0b00000100 (4) cnt=1\n",
      "00000100 4\n",
      "0b00001000 (8) cnt=1\n",
      "00001000 8\n"
     ]
    }
   ],
   "source": [
    "def selection_sort(x):\n",
    "    for i in range(len(x)):\n",
    "        swap = i + np.argmin(x[i:])\n",
    "        (x[i], x[swap]) = (x[swap], x[i])\n",
    "    return x\n",
    "\n",
    "selection_sort(M)\n",
    "print(M)\n",
    "\n",
    " \n",
    "\n",
    "def sorted_array_group(x):\n",
    "    genList = [Gen(x[0])]\n",
    "    genList.append(Gen(8))\n",
    "    for i in genList:\n",
    "        print(i.printAllInfo())\n",
    "#     print(genList)\n",
    "#     for i in range(len(x)):\n",
    "        \n",
    "        \n",
    "sorted_array_group(M)\n",
    "    "
   ]
  },
  {
   "cell_type": "code",
   "execution_count": null,
   "metadata": {},
   "outputs": [],
   "source": []
  },
  {
   "cell_type": "code",
   "execution_count": null,
   "metadata": {},
   "outputs": [],
   "source": []
  }
 ],
 "metadata": {
  "kernelspec": {
   "display_name": "Python 3",
   "language": "python",
   "name": "python3"
  },
  "language_info": {
   "codemirror_mode": {
    "name": "ipython",
    "version": 3
   },
   "file_extension": ".py",
   "mimetype": "text/x-python",
   "name": "python",
   "nbconvert_exporter": "python",
   "pygments_lexer": "ipython3",
   "version": "3.6.7"
  }
 },
 "nbformat": 4,
 "nbformat_minor": 2
}
